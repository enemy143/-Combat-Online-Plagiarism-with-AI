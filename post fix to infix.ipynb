{
  "nbformat": 4,
  "nbformat_minor": 0,
  "metadata": {
    "colab": {
      "provenance": [],
      "authorship_tag": "ABX9TyO7J3gl75Bij3os84RxPoxg",
      "include_colab_link": true
    },
    "kernelspec": {
      "name": "python3",
      "display_name": "Python 3"
    },
    "language_info": {
      "name": "python"
    }
  },
  "cells": [
    {
      "cell_type": "markdown",
      "metadata": {
        "id": "view-in-github",
        "colab_type": "text"
      },
      "source": [
        "<a href=\"https://colab.research.google.com/github/enemy143/-Combat-Online-Plagiarism-with-AI/blob/main/post%20fix%20to%20infix.ipynb\" target=\"_parent\"><img src=\"https://colab.research.google.com/assets/colab-badge.svg\" alt=\"Open In Colab\"/></a>"
      ]
    },
    {
      "cell_type": "code",
      "execution_count": 5,
      "metadata": {
        "colab": {
          "base_uri": "https://localhost:8080/"
        },
        "id": "6883XVCb8Ip7",
        "outputId": "e14a07a0-0d2a-4eb0-9883-6b208e09025d"
      },
      "outputs": [
        {
          "output_type": "stream",
          "name": "stdout",
          "text": [
            "1 0 1 0 1 0 1 0\n",
            "True\n"
          ]
        }
      ],
      "source": [
        "def isValid(operations):\n",
        "  count = 0\n",
        "  for op in operations:\n",
        "    if (op==1):\n",
        "      count+=1\n",
        "    else:\n",
        "      count-=1\n",
        "      if (count<0):\n",
        "        return False\n",
        "  return True\n",
        "operations = list(map(int,input().split()))\n",
        "print(isValid(operations))"
      ]
    },
    {
      "cell_type": "code",
      "source": [
        "def isValid(brackets):\n",
        "  c1,c2,c3 = 0,0,0\n",
        "  for ch in brackets:\n",
        "    if (ch=='('):\n",
        "      c1+=1\n",
        "    elif (ch=='{'):\n",
        "      c2+=1\n",
        "    elif (ch=='['):\n",
        "      c3+=1\n",
        "    elif (ch==')'):\n",
        "      c1-=1\n",
        "    elif (ch=='}'):\n",
        "      c2-=1\n",
        "    elif (ch==']'):\n",
        "      c3-=1\n",
        "    if (c1<0 or c2<0 or c3<0):\n",
        "      return False\n",
        "  return True\n",
        "\n",
        "\n",
        "brackets = input()\n",
        "print(isValid(brackets))"
      ],
      "metadata": {
        "colab": {
          "base_uri": "https://localhost:8080/"
        },
        "id": "3S736XEk9kSo",
        "outputId": "fc5b86b9-38f0-4970-926b-ec7fa0efcba5"
      },
      "execution_count": 8,
      "outputs": [
        {
          "output_type": "stream",
          "name": "stdout",
          "text": [
            "([{}])\n",
            "True\n"
          ]
        }
      ]
    },
    {
      "cell_type": "code",
      "source": [
        "class stack:\n",
        "  def isValid(brackets):\n",
        "    stack = []\n",
        "    for bracket in brackets:\n",
        "      if bracket in \"({[\":\n",
        "        stack.append(bracket)\n",
        "      elif not stack:\n",
        "        return False\n",
        "      else:\n",
        "        top = stack.pop()\n",
        "        if (bracket == \")\" and top != \"(\") or \\\n",
        "          (bracket == \"}\" and top != \"{\") or \\\n",
        "          (bracket == \"]\" and top != \"[\"):\n",
        "          return False\n",
        "    return len(stack)==0\n",
        "\n",
        "brackets = input()\n",
        "print(stack.isValid(brackets))"
      ],
      "metadata": {
        "colab": {
          "base_uri": "https://localhost:8080/"
        },
        "id": "HKZZ6-uP-6Ms",
        "outputId": "76864ec1-21c6-4ded-bcfc-49b99e84588e"
      },
      "execution_count": 16,
      "outputs": [
        {
          "output_type": "stream",
          "name": "stdout",
          "text": [
            "({[]})\n",
            "True\n"
          ]
        }
      ]
    },
    {
      "cell_type": "code",
      "source": [
        "def evaluate(expr):\n",
        "  expr = expr.split()\n",
        "  stack = []\n",
        "  ops = {'+': lambda a, b: a + b, '-': lambda a, b: a - b, '*': lambda a, b: a * b, '/': lambda a, b: a / b}\n",
        "  for ch in expr:\n",
        "    if ch in ops:\n",
        "      b = stack.pop()\n",
        "      a = stack.pop()\n",
        "      stack.append(ops[ch](a,b))\n",
        "    else:\n",
        "      stack.append(int(ch))\n",
        "  return stack.pop()\n",
        "expr = \"4 2 + 7 * 2 -\"\n",
        "print(evaluate(expr))"
      ],
      "metadata": {
        "colab": {
          "base_uri": "https://localhost:8080/"
        },
        "id": "JTaWeD4qCNRs",
        "outputId": "ff59bf36-6c8e-4594-b495-c16cf86950f7"
      },
      "execution_count": 23,
      "outputs": [
        {
          "output_type": "stream",
          "name": "stdout",
          "text": [
            "40\n"
          ]
        }
      ]
    },
    {
      "cell_type": "code",
      "source": [],
      "metadata": {
        "id": "x_OOgk2nDMIi"
      },
      "execution_count": null,
      "outputs": []
    }
  ]
}