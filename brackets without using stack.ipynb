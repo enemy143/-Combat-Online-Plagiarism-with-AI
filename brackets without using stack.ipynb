{
  "nbformat": 4,
  "nbformat_minor": 0,
  "metadata": {
    "colab": {
      "provenance": [],
      "authorship_tag": "ABX9TyOB5LhjmsMm+0liqCuGPI6j",
      "include_colab_link": true
    },
    "kernelspec": {
      "name": "python3",
      "display_name": "Python 3"
    },
    "language_info": {
      "name": "python"
    }
  },
  "cells": [
    {
      "cell_type": "markdown",
      "metadata": {
        "id": "view-in-github",
        "colab_type": "text"
      },
      "source": [
        "<a href=\"https://colab.research.google.com/github/enemy143/-Combat-Online-Plagiarism-with-AI/blob/main/brackets%20without%20using%20stack.ipynb\" target=\"_parent\"><img src=\"https://colab.research.google.com/assets/colab-badge.svg\" alt=\"Open In Colab\"/></a>"
      ]
    },
    {
      "cell_type": "code",
      "execution_count": 5,
      "metadata": {
        "colab": {
          "base_uri": "https://localhost:8080/"
        },
        "id": "6883XVCb8Ip7",
        "outputId": "e14a07a0-0d2a-4eb0-9883-6b208e09025d"
      },
      "outputs": [
        {
          "output_type": "stream",
          "name": "stdout",
          "text": [
            "1 0 1 0 1 0 1 0\n",
            "True\n"
          ]
        }
      ],
      "source": [
        "def isValid(operations):\n",
        "  count = 0\n",
        "  for op in operations:\n",
        "    if (op==1):\n",
        "      count+=1\n",
        "    else:\n",
        "      count-=1\n",
        "      if (count<0):\n",
        "        return False\n",
        "  return True\n",
        "operations = list(map(int,input().split()))\n",
        "print(isValid(operations))"
      ]
    },
    {
      "cell_type": "code",
      "source": [
        "def isValid(brackets):\n",
        "  c1,c2,c3 = 0,0,0\n",
        "  for ch in brackets:\n",
        "    if (ch=='('):\n",
        "      c1+=1\n",
        "    elif (ch=='{'):\n",
        "      c2+=1\n",
        "    elif (ch=='['):\n",
        "      c3+=1\n",
        "    elif (ch==')'):\n",
        "      c1-=1\n",
        "    elif (ch=='}'):\n",
        "      c2-=1\n",
        "    elif (ch==']'):\n",
        "      c3-=1\n",
        "    if (c1<0 or c2<0 or c3<0):\n",
        "      return False\n",
        "  return True\n",
        "\n",
        "\n",
        "brackets = input()\n",
        "print(isValid(brackets))"
      ],
      "metadata": {
        "colab": {
          "base_uri": "https://localhost:8080/"
        },
        "id": "3S736XEk9kSo",
        "outputId": "fc5b86b9-38f0-4970-926b-ec7fa0efcba5"
      },
      "execution_count": 8,
      "outputs": [
        {
          "output_type": "stream",
          "name": "stdout",
          "text": [
            "([{}])\n",
            "True\n"
          ]
        }
      ]
    }
  ]
}