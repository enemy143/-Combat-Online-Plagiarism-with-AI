{
  "nbformat": 4,
  "nbformat_minor": 0,
  "metadata": {
    "colab": {
      "provenance": [],
      "authorship_tag": "ABX9TyMqyFVxf6Fy4+8IHwR3a48r",
      "include_colab_link": true
    },
    "kernelspec": {
      "name": "python3",
      "display_name": "Python 3"
    },
    "language_info": {
      "name": "python"
    }
  },
  "cells": [
    {
      "cell_type": "markdown",
      "metadata": {
        "id": "view-in-github",
        "colab_type": "text"
      },
      "source": [
        "<a href=\"https://colab.research.google.com/github/enemy143/-Combat-Online-Plagiarism-with-AI/blob/main/Untitled4.ipynb\" target=\"_parent\"><img src=\"https://colab.research.google.com/assets/colab-badge.svg\" alt=\"Open In Colab\"/></a>"
      ]
    },
    {
      "cell_type": "code",
      "execution_count": 5,
      "metadata": {
        "colab": {
          "base_uri": "https://localhost:8080/"
        },
        "id": "6883XVCb8Ip7",
        "outputId": "e14a07a0-0d2a-4eb0-9883-6b208e09025d"
      },
      "outputs": [
        {
          "output_type": "stream",
          "name": "stdout",
          "text": [
            "1 0 1 0 1 0 1 0\n",
            "True\n"
          ]
        }
      ],
      "source": [
        "def isValid(operations):\n",
        "  count = 0\n",
        "  for op in operations:\n",
        "    if (op==1):\n",
        "      count+=1\n",
        "    else:\n",
        "      count-=1\n",
        "      if (count<0):\n",
        "        return False\n",
        "  return True\n",
        "operations = list(map(int,input().split()))\n",
        "print(isValid(operations))"
      ]
    }
  ]
}